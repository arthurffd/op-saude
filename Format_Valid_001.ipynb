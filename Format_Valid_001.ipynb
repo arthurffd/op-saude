{
 "cells": [
  {
   "cell_type": "code",
   "execution_count": 95,
   "metadata": {},
   "outputs": [],
   "source": [
    "import pandas as pd\n",
    "import datetime\n"
   ]
  },
  {
   "cell_type": "code",
   "execution_count": 115,
   "metadata": {},
   "outputs": [
    {
     "data": {
      "text/html": [
       "<div>\n",
       "<style scoped>\n",
       "    .dataframe tbody tr th:only-of-type {\n",
       "        vertical-align: middle;\n",
       "    }\n",
       "\n",
       "    .dataframe tbody tr th {\n",
       "        vertical-align: top;\n",
       "    }\n",
       "\n",
       "    .dataframe thead th {\n",
       "        text-align: right;\n",
       "    }\n",
       "</style>\n",
       "<table border=\"1\" class=\"dataframe\">\n",
       "  <thead>\n",
       "    <tr style=\"text-align: right;\">\n",
       "      <th></th>\n",
       "      <th>COMPETENCIA</th>\n",
       "      <th>CODIGO_BENEFICIARIO</th>\n",
       "      <th>NUM_EMPRESA</th>\n",
       "      <th>FATURAR_CONTRA</th>\n",
       "      <th>DAT_EMISSAO</th>\n",
       "      <th>DAT_PAGTO</th>\n",
       "      <th>COD_CENTRO_CUSTO</th>\n",
       "      <th>NOM_CENTRO_CUSTO</th>\n",
       "      <th>TIPO_ATO</th>\n",
       "      <th>TIPO_COBRANCA</th>\n",
       "      <th>VAL_ATO</th>\n",
       "      <th>VALOR_SALDO</th>\n",
       "      <th>VALOR_PAGO</th>\n",
       "    </tr>\n",
       "  </thead>\n",
       "  <tbody>\n",
       "    <tr>\n",
       "      <th>0</th>\n",
       "      <td>201406</td>\n",
       "      <td>0025.1231.035664.00-0</td>\n",
       "      <td>-1</td>\n",
       "      <td>Titular</td>\n",
       "      <td>2014-06-10</td>\n",
       "      <td>2014-08-04 00:00:00</td>\n",
       "      <td>NaN</td>\n",
       "      <td>NaN</td>\n",
       "      <td>Mensalidade Plano de Saúde</td>\n",
       "      <td>TAXA</td>\n",
       "      <td>176.82</td>\n",
       "      <td>0.0</td>\n",
       "      <td>286.89</td>\n",
       "    </tr>\n",
       "    <tr>\n",
       "      <th>1</th>\n",
       "      <td>201406</td>\n",
       "      <td>0025.1231.035664.00-0</td>\n",
       "      <td>-1</td>\n",
       "      <td>Titular</td>\n",
       "      <td>2014-06-10</td>\n",
       "      <td>2014-08-04 00:00:00</td>\n",
       "      <td>NaN</td>\n",
       "      <td>NaN</td>\n",
       "      <td>TAXA DE INSCRIÇÃO</td>\n",
       "      <td>TAXA</td>\n",
       "      <td>0.00</td>\n",
       "      <td>NaN</td>\n",
       "      <td>NaN</td>\n",
       "    </tr>\n",
       "    <tr>\n",
       "      <th>2</th>\n",
       "      <td>201406</td>\n",
       "      <td>0025.1231.035664.30-2</td>\n",
       "      <td>-1</td>\n",
       "      <td>Titular</td>\n",
       "      <td>2014-06-10</td>\n",
       "      <td>2014-08-04 00:00:00</td>\n",
       "      <td>NaN</td>\n",
       "      <td>NaN</td>\n",
       "      <td>Mensalidade Plano de Saúde</td>\n",
       "      <td>TAXA</td>\n",
       "      <td>104.01</td>\n",
       "      <td>NaN</td>\n",
       "      <td>NaN</td>\n",
       "    </tr>\n",
       "    <tr>\n",
       "      <th>3</th>\n",
       "      <td>201406</td>\n",
       "      <td>0025.1231.035664.30-2</td>\n",
       "      <td>-1</td>\n",
       "      <td>Titular</td>\n",
       "      <td>2014-06-10</td>\n",
       "      <td>2014-08-04 00:00:00</td>\n",
       "      <td>NaN</td>\n",
       "      <td>NaN</td>\n",
       "      <td>TAXA DE INSCRIÇÃO</td>\n",
       "      <td>TAXA</td>\n",
       "      <td>0.00</td>\n",
       "      <td>NaN</td>\n",
       "      <td>NaN</td>\n",
       "    </tr>\n",
       "    <tr>\n",
       "      <th>4</th>\n",
       "      <td>201407</td>\n",
       "      <td>0025.1978.001866.00-0</td>\n",
       "      <td>-1</td>\n",
       "      <td>Titular</td>\n",
       "      <td>2014-06-10</td>\n",
       "      <td>2014-06-10 00:00:00</td>\n",
       "      <td>NaN</td>\n",
       "      <td>NaN</td>\n",
       "      <td>Mensalidade Plano de Saúde</td>\n",
       "      <td>TAXA</td>\n",
       "      <td>187.77</td>\n",
       "      <td>0.0</td>\n",
       "      <td>187.77</td>\n",
       "    </tr>\n",
       "  </tbody>\n",
       "</table>\n",
       "</div>"
      ],
      "text/plain": [
       "   COMPETENCIA    CODIGO_BENEFICIARIO  NUM_EMPRESA FATURAR_CONTRA DAT_EMISSAO  \\\n",
       "0       201406  0025.1231.035664.00-0           -1        Titular  2014-06-10   \n",
       "1       201406  0025.1231.035664.00-0           -1        Titular  2014-06-10   \n",
       "2       201406  0025.1231.035664.30-2           -1        Titular  2014-06-10   \n",
       "3       201406  0025.1231.035664.30-2           -1        Titular  2014-06-10   \n",
       "4       201407  0025.1978.001866.00-0           -1        Titular  2014-06-10   \n",
       "\n",
       "             DAT_PAGTO  COD_CENTRO_CUSTO NOM_CENTRO_CUSTO  \\\n",
       "0  2014-08-04 00:00:00               NaN              NaN   \n",
       "1  2014-08-04 00:00:00               NaN              NaN   \n",
       "2  2014-08-04 00:00:00               NaN              NaN   \n",
       "3  2014-08-04 00:00:00               NaN              NaN   \n",
       "4  2014-06-10 00:00:00               NaN              NaN   \n",
       "\n",
       "                     TIPO_ATO TIPO_COBRANCA  VAL_ATO  VALOR_SALDO  VALOR_PAGO  \n",
       "0  Mensalidade Plano de Saúde          TAXA   176.82          0.0      286.89  \n",
       "1           TAXA DE INSCRIÇÃO          TAXA     0.00          NaN         NaN  \n",
       "2  Mensalidade Plano de Saúde          TAXA   104.01          NaN         NaN  \n",
       "3           TAXA DE INSCRIÇÃO          TAXA     0.00          NaN         NaN  \n",
       "4  Mensalidade Plano de Saúde          TAXA   187.77          0.0      187.77  "
      ]
     },
     "execution_count": 115,
     "metadata": {},
     "output_type": "execute_result"
    }
   ],
   "source": [
    "date_format = lambda s: pd.datetime.strptime(s,\"%d/%m/%Y\")\n",
    "data = pd.read_csv(\"receitas_1000.csv\",  encoding = \"utf-8\", delimiter=\";\" , decimal=\",\" , parse_dates=[\"DAT_EMISSAO\",\"DAT_PAGTO\"] , date_parser=date_format) \n",
    "data.head()\n"
   ]
  },
  {
   "cell_type": "code",
   "execution_count": 116,
   "metadata": {},
   "outputs": [
    {
     "name": "stdout",
     "output_type": "stream",
     "text": [
      "COMPETENCIA                     int64\n",
      "CODIGO_BENEFICIARIO            object\n",
      "NUM_EMPRESA                     int64\n",
      "FATURAR_CONTRA                 object\n",
      "DAT_EMISSAO            datetime64[ns]\n",
      "DAT_PAGTO                      object\n",
      "COD_CENTRO_CUSTO              float64\n",
      "NOM_CENTRO_CUSTO               object\n",
      "TIPO_ATO                       object\n",
      "TIPO_COBRANCA                  object\n",
      "VAL_ATO                       float64\n",
      "VALOR_SALDO                   float64\n",
      "VALOR_PAGO                    float64\n",
      "dtype: object\n"
     ]
    }
   ],
   "source": [
    "print(data.dtypes)"
   ]
  },
  {
   "cell_type": "code",
   "execution_count": 21,
   "metadata": {},
   "outputs": [],
   "source": [
    "# Dask\n",
    "import dask.dataframe\n",
    "data2 = dask.dataframe.read_csv(\"receitas_1000.csv\",  delimiter=\";\")"
   ]
  },
  {
   "cell_type": "code",
   "execution_count": 22,
   "metadata": {},
   "outputs": [
    {
     "data": {
      "text/html": [
       "<div>\n",
       "<style scoped>\n",
       "    .dataframe tbody tr th:only-of-type {\n",
       "        vertical-align: middle;\n",
       "    }\n",
       "\n",
       "    .dataframe tbody tr th {\n",
       "        vertical-align: top;\n",
       "    }\n",
       "\n",
       "    .dataframe thead th {\n",
       "        text-align: right;\n",
       "    }\n",
       "</style>\n",
       "<table border=\"1\" class=\"dataframe\">\n",
       "  <thead>\n",
       "    <tr style=\"text-align: right;\">\n",
       "      <th></th>\n",
       "      <th>COMPETENCIA</th>\n",
       "      <th>CODIGO_BENEFICIARIO</th>\n",
       "      <th>NUM_EMPRESA</th>\n",
       "      <th>FATURAR_CONTRA</th>\n",
       "      <th>DAT_EMISSAO</th>\n",
       "      <th>DAT_PAGTO</th>\n",
       "      <th>COD_CENTRO_CUSTO</th>\n",
       "      <th>NOM_CENTRO_CUSTO</th>\n",
       "      <th>TIPO_ATO</th>\n",
       "      <th>TIPO_COBRANCA</th>\n",
       "      <th>VAL_ATO</th>\n",
       "      <th>VALOR_SALDO</th>\n",
       "      <th>VALOR_PAGO</th>\n",
       "    </tr>\n",
       "  </thead>\n",
       "  <tbody>\n",
       "    <tr>\n",
       "      <th>0</th>\n",
       "      <td>201406</td>\n",
       "      <td>0025.1231.035664.00-0</td>\n",
       "      <td>-1</td>\n",
       "      <td>Titular</td>\n",
       "      <td>10/06/2014</td>\n",
       "      <td>04/08/2014</td>\n",
       "      <td>NaN</td>\n",
       "      <td>NaN</td>\n",
       "      <td>Mensalidade Plano de Saúde</td>\n",
       "      <td>TAXA</td>\n",
       "      <td>176,82</td>\n",
       "      <td>0</td>\n",
       "      <td>286,89</td>\n",
       "    </tr>\n",
       "    <tr>\n",
       "      <th>1</th>\n",
       "      <td>201406</td>\n",
       "      <td>0025.1231.035664.00-0</td>\n",
       "      <td>-1</td>\n",
       "      <td>Titular</td>\n",
       "      <td>10/06/2014</td>\n",
       "      <td>04/08/2014</td>\n",
       "      <td>NaN</td>\n",
       "      <td>NaN</td>\n",
       "      <td>TAXA DE INSCRIÇÃO</td>\n",
       "      <td>TAXA</td>\n",
       "      <td>0</td>\n",
       "      <td>NaN</td>\n",
       "      <td>NaN</td>\n",
       "    </tr>\n",
       "    <tr>\n",
       "      <th>2</th>\n",
       "      <td>201406</td>\n",
       "      <td>0025.1231.035664.30-2</td>\n",
       "      <td>-1</td>\n",
       "      <td>Titular</td>\n",
       "      <td>10/06/2014</td>\n",
       "      <td>04/08/2014</td>\n",
       "      <td>NaN</td>\n",
       "      <td>NaN</td>\n",
       "      <td>Mensalidade Plano de Saúde</td>\n",
       "      <td>TAXA</td>\n",
       "      <td>104,01</td>\n",
       "      <td>NaN</td>\n",
       "      <td>NaN</td>\n",
       "    </tr>\n",
       "    <tr>\n",
       "      <th>3</th>\n",
       "      <td>201406</td>\n",
       "      <td>0025.1231.035664.30-2</td>\n",
       "      <td>-1</td>\n",
       "      <td>Titular</td>\n",
       "      <td>10/06/2014</td>\n",
       "      <td>04/08/2014</td>\n",
       "      <td>NaN</td>\n",
       "      <td>NaN</td>\n",
       "      <td>TAXA DE INSCRIÇÃO</td>\n",
       "      <td>TAXA</td>\n",
       "      <td>0</td>\n",
       "      <td>NaN</td>\n",
       "      <td>NaN</td>\n",
       "    </tr>\n",
       "    <tr>\n",
       "      <th>4</th>\n",
       "      <td>201407</td>\n",
       "      <td>0025.1978.001866.00-0</td>\n",
       "      <td>-1</td>\n",
       "      <td>Titular</td>\n",
       "      <td>10/06/2014</td>\n",
       "      <td>10/06/2014</td>\n",
       "      <td>NaN</td>\n",
       "      <td>NaN</td>\n",
       "      <td>Mensalidade Plano de Saúde</td>\n",
       "      <td>TAXA</td>\n",
       "      <td>187,77</td>\n",
       "      <td>0</td>\n",
       "      <td>187,77</td>\n",
       "    </tr>\n",
       "  </tbody>\n",
       "</table>\n",
       "</div>"
      ],
      "text/plain": [
       "   COMPETENCIA    CODIGO_BENEFICIARIO  NUM_EMPRESA FATURAR_CONTRA DAT_EMISSAO  \\\n",
       "0       201406  0025.1231.035664.00-0           -1        Titular  10/06/2014   \n",
       "1       201406  0025.1231.035664.00-0           -1        Titular  10/06/2014   \n",
       "2       201406  0025.1231.035664.30-2           -1        Titular  10/06/2014   \n",
       "3       201406  0025.1231.035664.30-2           -1        Titular  10/06/2014   \n",
       "4       201407  0025.1978.001866.00-0           -1        Titular  10/06/2014   \n",
       "\n",
       "    DAT_PAGTO  COD_CENTRO_CUSTO NOM_CENTRO_CUSTO                    TIPO_ATO  \\\n",
       "0  04/08/2014               NaN              NaN  Mensalidade Plano de Saúde   \n",
       "1  04/08/2014               NaN              NaN           TAXA DE INSCRIÇÃO   \n",
       "2  04/08/2014               NaN              NaN  Mensalidade Plano de Saúde   \n",
       "3  04/08/2014               NaN              NaN           TAXA DE INSCRIÇÃO   \n",
       "4  10/06/2014               NaN              NaN  Mensalidade Plano de Saúde   \n",
       "\n",
       "  TIPO_COBRANCA VAL_ATO VALOR_SALDO VALOR_PAGO  \n",
       "0          TAXA  176,82           0     286,89  \n",
       "1          TAXA       0         NaN        NaN  \n",
       "2          TAXA  104,01         NaN        NaN  \n",
       "3          TAXA       0         NaN        NaN  \n",
       "4          TAXA  187,77           0     187,77  "
      ]
     },
     "execution_count": 22,
     "metadata": {},
     "output_type": "execute_result"
    }
   ],
   "source": [
    "data2.head()"
   ]
  },
  {
   "cell_type": "code",
   "execution_count": 23,
   "metadata": {},
   "outputs": [
    {
     "data": {
      "text/plain": [
       "COMPETENCIA              int64\n",
       "CODIGO_BENEFICIARIO     object\n",
       "NUM_EMPRESA              int64\n",
       "FATURAR_CONTRA          object\n",
       "DAT_EMISSAO             object\n",
       "DAT_PAGTO               object\n",
       "COD_CENTRO_CUSTO       float64\n",
       "NOM_CENTRO_CUSTO        object\n",
       "TIPO_ATO                object\n",
       "TIPO_COBRANCA           object\n",
       "VAL_ATO                 object\n",
       "VALOR_SALDO             object\n",
       "VALOR_PAGO              object\n",
       "dtype: object"
      ]
     },
     "execution_count": 23,
     "metadata": {},
     "output_type": "execute_result"
    }
   ],
   "source": [
    "data2.dtypes"
   ]
  },
  {
   "cell_type": "code",
   "execution_count": 170,
   "metadata": {},
   "outputs": [],
   "source": [
    "def get_dtype_csv(p_csv, p_delimiter=';' , p_decimal='.', p_date_format=None,  p_date_fields=False, p_compression='infer'):\n",
    "    \n",
    "    if p_date_format == None:\n",
    "        dt_format = None\n",
    "    else:    \n",
    "        dt_format = lambda s: pd.datetime.strptime(s, p_date_format)\n",
    "        # 25/10/2018 => \"%d/%m/%Y\"\n",
    "\n",
    "    ds = pd.read_csv(p_csv , encoding  = 'utf-8' , delimiter = p_delimiter , decimal = p_decimal,\n",
    "                     parse_dates = p_date_fields, date_parser = dt_format, compression = p_compression)\n",
    "    \n",
    "    print(ds.dtypes)\n",
    "    return ds.dtypes\n",
    "        \n",
    "        "
   ]
  },
  {
   "cell_type": "code",
   "execution_count": 171,
   "metadata": {},
   "outputs": [
    {
     "name": "stdout",
     "output_type": "stream",
     "text": [
      "COMPETENCIA                     int64\n",
      "CODIGO_BENEFICIARIO            object\n",
      "NUM_EMPRESA                     int64\n",
      "FATURAR_CONTRA                 object\n",
      "DAT_EMISSAO            datetime64[ns]\n",
      "DAT_PAGTO                      object\n",
      "COD_CENTRO_CUSTO              float64\n",
      "NOM_CENTRO_CUSTO               object\n",
      "TIPO_ATO                       object\n",
      "TIPO_COBRANCA                  object\n",
      "VAL_ATO                       float64\n",
      "VALOR_SALDO                   float64\n",
      "VALOR_PAGO                    float64\n",
      "dtype: object\n"
     ]
    },
    {
     "data": {
      "text/plain": [
       "COMPETENCIA                     int64\n",
       "CODIGO_BENEFICIARIO            object\n",
       "NUM_EMPRESA                     int64\n",
       "FATURAR_CONTRA                 object\n",
       "DAT_EMISSAO            datetime64[ns]\n",
       "DAT_PAGTO                      object\n",
       "COD_CENTRO_CUSTO              float64\n",
       "NOM_CENTRO_CUSTO               object\n",
       "TIPO_ATO                       object\n",
       "TIPO_COBRANCA                  object\n",
       "VAL_ATO                       float64\n",
       "VALOR_SALDO                   float64\n",
       "VALOR_PAGO                    float64\n",
       "dtype: object"
      ]
     },
     "execution_count": 171,
     "metadata": {},
     "output_type": "execute_result"
    }
   ],
   "source": [
    "get_dtype_csv(\"receitas_1000.csv.gz\",  p_delimiter=\";\" , p_decimal=\",\" , \n",
    "          p_date_fields=[\"DAT_EMISSAO\",\"DAT_PAGTO\"] , p_date_format=\"%d/%m/%Y\", p_compression = 'gzip') \n"
   ]
  },
  {
   "cell_type": "code",
   "execution_count": 173,
   "metadata": {},
   "outputs": [
    {
     "name": "stdout",
     "output_type": "stream",
     "text": [
      "COMPETENCIA              int64\n",
      "CODIGO_BENEFICIARIO     object\n",
      "NUM_EMPRESA              int64\n",
      "FATURAR_CONTRA          object\n",
      "DAT_EMISSAO             object\n",
      "DAT_PAGTO               object\n",
      "COD_CENTRO_CUSTO       float64\n",
      "NOM_CENTRO_CUSTO        object\n",
      "TIPO_ATO                object\n",
      "TIPO_COBRANCA           object\n",
      "VAL_ATO                 object\n",
      "VALOR_SALDO             object\n",
      "VALOR_PAGO              object\n",
      "dtype: object\n"
     ]
    }
   ],
   "source": [
    "tipos = get_dtype_csv('receitas_1000.csv.gz') "
   ]
  },
  {
   "cell_type": "code",
   "execution_count": 194,
   "metadata": {},
   "outputs": [
    {
     "data": {
      "text/plain": [
       "dtype('int64')"
      ]
     },
     "execution_count": 194,
     "metadata": {},
     "output_type": "execute_result"
    }
   ],
   "source": [
    "tipos['COMPETENCIA']"
   ]
  },
  {
   "cell_type": "code",
   "execution_count": 218,
   "metadata": {},
   "outputs": [],
   "source": [
    "def get_duplicated(p_csv, p_keys=[]):\n",
    "    ds = pd.read_csv(p_csv, delimiter = ';', nrows=100)\n",
    "    \n",
    "    if not p_keys:\n",
    "        # all columns\n",
    "        duplic = ds[ds.duplicated()]\n",
    "        print(\"Duplicate Rows based on all columns are: \")\n",
    "\n",
    "\n",
    "    else:\n",
    "        duplic = ds[ds.duplicated(p_keys)] \n",
    "        print(\"Duplicate Rows based on p_keys columns are: \")\n",
    "\n",
    "              \n",
    "    print(duplic)\n",
    "    \n",
    "    return duplic\n"
   ]
  },
  {
   "cell_type": "code",
   "execution_count": 221,
   "metadata": {},
   "outputs": [
    {
     "name": "stdout",
     "output_type": "stream",
     "text": [
      "Duplicate Rows based on all columns are: \n",
      "    COMPETENCIA    CODIGO_BENEFICIARIO  NUM_EMPRESA FATURAR_CONTRA  \\\n",
      "12       201406  0025.1231.035632.00-1           -1        Titular   \n",
      "\n",
      "   DAT_EMISSAO   DAT_PAGTO  COD_CENTRO_CUSTO  NOM_CENTRO_CUSTO    TIPO_ATO  \\\n",
      "12  11/06/2014  09/07/2014               NaN               NaN  SOS UNIMED   \n",
      "\n",
      "   TIPO_COBRANCA VAL_ATO  VALOR_SALDO VALOR_PAGO  \n",
      "12          TAXA    7,77          NaN        NaN  \n"
     ]
    }
   ],
   "source": [
    "dups = get_duplicated('receitas_1000.csv')"
   ]
  },
  {
   "cell_type": "code",
   "execution_count": 222,
   "metadata": {},
   "outputs": [
    {
     "name": "stdout",
     "output_type": "stream",
     "text": [
      "Duplicate Rows based on p_keys columns are: \n",
      "    COMPETENCIA    CODIGO_BENEFICIARIO  NUM_EMPRESA FATURAR_CONTRA  \\\n",
      "12       201406  0025.1231.035632.00-1           -1        Titular   \n",
      "32       201406  0025.1250.035482.00-6           -1        Titular   \n",
      "\n",
      "   DAT_EMISSAO   DAT_PAGTO  COD_CENTRO_CUSTO  NOM_CENTRO_CUSTO    TIPO_ATO  \\\n",
      "12  11/06/2014  09/07/2014               NaN               NaN  SOS UNIMED   \n",
      "32  11/06/2014  26/06/2014               NaN               NaN      USIMED   \n",
      "\n",
      "   TIPO_COBRANCA VAL_ATO  VALOR_SALDO VALOR_PAGO  \n",
      "12          TAXA    7,77          NaN        NaN  \n",
      "32        TAXA 2    4,05          NaN        NaN  \n"
     ]
    }
   ],
   "source": [
    "dups = get_duplicated('receitas_1000.csv', ['COMPETENCIA', 'CODIGO_BENEFICIARIO', 'TIPO_ATO'])"
   ]
  }
 ],
 "metadata": {
  "kernelspec": {
   "display_name": "Python 3",
   "language": "python",
   "name": "python3"
  },
  "language_info": {
   "codemirror_mode": {
    "name": "ipython",
    "version": 3
   },
   "file_extension": ".py",
   "mimetype": "text/x-python",
   "name": "python",
   "nbconvert_exporter": "python",
   "pygments_lexer": "ipython3",
   "version": "3.7.3"
  }
 },
 "nbformat": 4,
 "nbformat_minor": 2
}
